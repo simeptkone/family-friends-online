{
 "cells": [
  {
   "cell_type": "code",
   "execution_count": null,
   "id": "a3cff39e",
   "metadata": {},
   "outputs": [],
   "source": [
    "a = 5\n",
    "b = 10\n",
    "c = a + b\n",
    "# print(a,b,c)\n",
    "print(f\"A = {a}\\nB = {b}\\nA + B = {c}\")\n"
   ]
  },
  {
   "cell_type": "code",
   "execution_count": null,
   "id": "46bbbbf4",
   "metadata": {},
   "outputs": [],
   "source": [
    "# () ==> tuple (Readonly)\n",
    "# [] ==> list (Read/Write)\n",
    "# {} ==> set (Read/Write with \"Not Allowed Duplicate\")\n",
    "t1 = (10,20,30,40,50)\n",
    "l1 = [1,2,3,4,5,2]\n",
    "s1 = {1,2,3,4,5,3}\n",
    "\n",
    "print(t1,l1,s1)\n"
   ]
  },
  {
   "cell_type": "code",
   "execution_count": null,
   "id": "2a5e7a7e",
   "metadata": {},
   "outputs": [],
   "source": [
    "t2 = range(10,60,10)\n",
    "print(list(t2))\n",
    "print(tuple(t2))"
   ]
  },
  {
   "cell_type": "code",
   "execution_count": null,
   "id": "4833e13c",
   "metadata": {},
   "outputs": [],
   "source": [
    "a = 5\n",
    "b = 5\n",
    "if(a>b):\n",
    "    print(\"A is Big\")\n",
    "if(a<b):\n",
    "    print(\"B is Big\")\n",
    "\n",
    "if(a>b):\n",
    "    print(\"A is BIG\")\n",
    "else:\n",
    "    print(\"B is BIG\")"
   ]
  },
  {
   "cell_type": "code",
   "execution_count": null,
   "id": "4aa2d72f",
   "metadata": {},
   "outputs": [],
   "source": [
    "for i in range(10):\n",
    "    print(i)\n",
    "\n",
    "l2 = [i for i in range(10)]\n",
    "print(l2)"
   ]
  },
  {
   "cell_type": "code",
   "execution_count": null,
   "id": "ffb1ef44",
   "metadata": {},
   "outputs": [],
   "source": [
    "# 1 + 2 + 3 +.....+15\n",
    "# Si = n(n+1)/2\n",
    "\n",
    "r1 = [i for i in range(1,16)]\n",
    "print(r1)\n",
    "print(sum(r1))\n",
    "\n",
    "\n"
   ]
  },
  {
   "cell_type": "code",
   "execution_count": null,
   "id": "bdd7f76d",
   "metadata": {},
   "outputs": [],
   "source": [
    "import random\n",
    "students = [\"Ramesh\", \"Suresh\", \"Dinesh\", \"Mahesh\", \"Ajay\"]\n",
    "tamilMarks = [random.randint(10,100) for _ in range(len(students))]\n",
    "print(tamilMarks)"
   ]
  },
  {
   "cell_type": "code",
   "execution_count": null,
   "id": "b80fff9c",
   "metadata": {},
   "outputs": [],
   "source": [
    "d1 = {\"Name\":\"Mahesh\", \"City\":\"Chennai\", \"Mobile\":\"123453223\",\"Email\":\"mahesh123@gmail.com\"}\n",
    "d2 = {\"Name\":\"Suresh\", \"City\":\"Madurau\", \"Mobile\":\"123413342\",\"Email\":\"sures234@gmail.com\"}\n",
    "print(d2[\"Mobile\"], d1[\"City\"])\n",
    "\n",
    "dd =[d1,d2]\n",
    "print(dd[0][\"City\"], dd[1][\"Mobile\"])\n",
    "\n",
    "tamilnadu = {\"Madurai\", \"Trichy\"}\n",
    "Kerala = {\"A\", \"B\"}\n",
    "dd1 = {\"tamilnadu\":tamilnadu, \"Kerala\":Kerala}\n",
    "print(dd1[\"tamilnadu\"])\n",
    "print(dd1[\"Kerala\"])"
   ]
  },
  {
   "cell_type": "code",
   "execution_count": 42,
   "id": "a2cd1767",
   "metadata": {},
   "outputs": [
    {
     "name": "stdout",
     "output_type": "stream",
     "text": [
      "{'Name': 'Mahesh2', 'Tamil': 100, 'English': 70, 'Maths': 100, 'Email': 'aa@f.com'}\n"
     ]
    }
   ],
   "source": [
    "students = {\n",
    "    1001:{\"Name\":\"Mahesh\", \"Tamil\":100, \"English\":70, \"Maths\": 100, \"Email\":\"aa@f.com\"},\n",
    "    1002:{\"Name\":\"Mahesh1\", \"Tamil\":100, \"English\":70, \"Maths\": 100, \"Email\":\"aa@f.com\"},\n",
    "    1003:{\"Name\":\"Mahesh2\", \"Tamil\":100, \"English\":70, \"Maths\": 100, \"Email\":\"aa@f.com\"},\n",
    "}\n",
    "\n",
    "print(students[1003])"
   ]
  },
  {
   "cell_type": "code",
   "execution_count": null,
   "id": "4133a82f",
   "metadata": {},
   "outputs": [],
   "source": [
    "def sumOfTwoNos(a,b):\n",
    "    return a + b"
   ]
  }
 ],
 "metadata": {
  "kernelspec": {
   "display_name": "Python 3",
   "language": "python",
   "name": "python3"
  },
  "language_info": {
   "codemirror_mode": {
    "name": "ipython",
    "version": 3
   },
   "file_extension": ".py",
   "mimetype": "text/x-python",
   "name": "python",
   "nbconvert_exporter": "python",
   "pygments_lexer": "ipython3",
   "version": "3.12.1"
  }
 },
 "nbformat": 4,
 "nbformat_minor": 5
}
