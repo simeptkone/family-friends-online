{
 "cells": [
  {
   "cell_type": "code",
   "execution_count": 37,
   "id": "46508ba0",
   "metadata": {},
   "outputs": [
    {
     "name": "stdout",
     "output_type": "stream",
     "text": [
      "[('Ganesh', 90, 57, 77, 86, 59), ('Mahesh', 56, 4, 85, 1, 75), ('Ramesh', 89, 84, 89, 0, 44), ('Dinesh', 35, 83, 81, 32, 7), ('Suresh', 23, 49, 54, 76, 38), ('Dharani', 18, 18, 50, 69, 91), ('Raman', 100, 21, 39, 86, 7), ('Naveen', 65, 3, 59, 34, 1), ('Mani', 75, 79, 89, 4, 44), ('Maniram', 32, 44, 1, 61, 23), ('Gangadharan', 77, 28, 100, 14, 44)]\n",
      "[('Ganesh', 90, 57, 77, 86, 59, 369, 'Pass'), ('Mahesh', 56, 4, 85, 1, 75, 221, 'Fail'), ('Ramesh', 89, 84, 89, 0, 44, 306, 'Fail'), ('Dinesh', 35, 83, 81, 32, 7, 238, 'Fail'), ('Suresh', 23, 49, 54, 76, 38, 240, 'Fail'), ('Dharani', 18, 18, 50, 69, 91, 246, 'Fail'), ('Raman', 100, 21, 39, 86, 7, 253, 'Fail'), ('Naveen', 65, 3, 59, 34, 1, 162, 'Fail'), ('Mani', 75, 79, 89, 4, 44, 291, 'Fail'), ('Maniram', 32, 44, 1, 61, 23, 161, 'Fail'), ('Gangadharan', 77, 28, 100, 14, 44, 263, 'Fail')]\n"
     ]
    }
   ],
   "source": [
    "import random\n",
    "students = [\"Ganesh\", \"Mahesh\", \"Ramesh\", \"Dinesh\", \"Suresh\", \"Dharani\", \"Raman\", \"Naveen\", \"Mani\", \"Maniram\", \"Gangadharan\"]\n",
    "\n",
    "tamilMarks = [90,56,89,35,23,18,100,65,75,32,77]\n",
    "englishMarks = [random.randint(0,100) for _ in range(len(students))]\n",
    "mathsMarks = [random.randint(0,100) for _ in range(len(students))]\n",
    "scienceMarks = [random.randint(0,100) for _ in range(len(students))]\n",
    "socialMarks = [random.randint(0,100) for _ in range(len(students))]\n",
    "\n",
    "students_marks = list(zip(students, tamilMarks, englishMarks, mathsMarks, scienceMarks, socialMarks))\n",
    "\n",
    "print(students_marks)\n",
    "\n",
    "total_marks = [sum(marks[1:6]) for marks in students_marks ]\n",
    "# for student in students_marks:\n",
    "#     print(sum(student[1:6]))\n",
    "\n",
    "result = [\"Pass\" if min(marks[1:6])>=35 else \"Fail\" for marks in students_marks]\n",
    "\n",
    "# for student in students_marks:\n",
    "#     if min (student[1:6]) >= 35:\n",
    "#         print(\"Pass\")\n",
    "#     else:\n",
    "#         print(\"Fail\")\n",
    "\n",
    "students_marks = list(zip(students, tamilMarks, englishMarks, mathsMarks, scienceMarks,socialMarks, total_marks, result))\n",
    "\n",
    "# print(total_marks)\n",
    "# print(result)\n",
    "print(students_marks)\n"
   ]
  }
 ],
 "metadata": {
  "kernelspec": {
   "display_name": "Python 3",
   "language": "python",
   "name": "python3"
  },
  "language_info": {
   "codemirror_mode": {
    "name": "ipython",
    "version": 3
   },
   "file_extension": ".py",
   "mimetype": "text/x-python",
   "name": "python",
   "nbconvert_exporter": "python",
   "pygments_lexer": "ipython3",
   "version": "3.12.1"
  }
 },
 "nbformat": 4,
 "nbformat_minor": 5
}
