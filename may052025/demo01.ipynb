{
 "cells": [
  {
   "cell_type": "code",
   "execution_count": 7,
   "id": "46508ba0",
   "metadata": {},
   "outputs": [
    {
     "name": "stdout",
     "output_type": "stream",
     "text": [
      "[('Ganesh', 90, 31, 81, 58, 94, 354, 'Fail'), ('Mahesh', 56, 48, 89, 49, 50, 292, 'Pass'), ('Ramesh', 89, 8, 55, 18, 42, 212, 'Fail'), ('Dinesh', 35, 16, 19, 40, 87, 197, 'Fail'), ('Suresh', 23, 18, 64, 72, 93, 270, 'Fail'), ('Dharani', 18, 16, 11, 91, 65, 201, 'Fail'), ('Raman', 100, 67, 81, 42, 0, 290, 'Fail'), ('Naveen', 65, 98, 56, 8, 93, 320, 'Fail'), ('Mani', 75, 64, 87, 86, 90, 402, 'Pass'), ('Maniram', 32, 52, 31, 3, 39, 157, 'Fail'), ('Gangadharan', 77, 93, 74, 35, 55, 334, 'Pass')]\n",
      "Passed Student Details:\n",
      "Mahesh 56 48 89 49 50 292\n",
      "Mani 75 64 87 86 90 402\n",
      "Gangadharan 77 93 74 35 55 334\n",
      "All Subjects Failed Student Details\n",
      "There is no students with all subject failed.\n"
     ]
    }
   ],
   "source": [
    "import random\n",
    "students = [\"Ganesh\", \"Mahesh\", \"Ramesh\", \"Dinesh\", \"Suresh\", \"Dharani\", \"Raman\", \"Naveen\", \"Mani\", \"Maniram\", \"Gangadharan\"]\n",
    "\n",
    "tamilMarks = [90,56,89,35,23,18,100,65,75,32,77]\n",
    "englishMarks = [random.randint(0,100) for _ in range(len(students))]\n",
    "mathsMarks = [random.randint(0,100) for _ in range(len(students))]\n",
    "scienceMarks = [random.randint(0,100) for _ in range(len(students))]\n",
    "socialMarks = [random.randint(0,100) for _ in range(len(students))]\n",
    "\n",
    "students_marks = list(zip(students, tamilMarks, englishMarks, mathsMarks, scienceMarks, socialMarks))\n",
    "\n",
    "# print(students_marks)\n",
    "\n",
    "total_marks = [sum(marks[1:6]) for marks in students_marks ]\n",
    "# for student in students_marks:\n",
    "#     print(sum(student[1:6]))\n",
    "\n",
    "result = [\"Pass\" if min(marks[1:6])>=35 else \"Fail\" for marks in students_marks]\n",
    "\n",
    "# for student in students_marks:\n",
    "#     if min (student[1:6]) >= 35:\n",
    "#         print(\"Pass\")\n",
    "#     else:\n",
    "#         print(\"Fail\")\n",
    "\n",
    "students_marks = list(zip(students, tamilMarks, englishMarks, mathsMarks, scienceMarks,socialMarks, total_marks, result))\n",
    "\n",
    "# print(total_marks)\n",
    "# print(result)\n",
    "print(students_marks)\n",
    "\n",
    "def get_passed_students(students):\n",
    "    print(\"Passed Student Details:\")\n",
    "    for student in students:\n",
    "        if(student[7] == \"Pass\"):\n",
    "            print(student[0], student[1], student[2], student[3], student[4], student[5], student[6])\n",
    "\n",
    "\n",
    "def get_all_subject_failed_students(students):\n",
    "    print(\"All Subjects Failed Student Details\")\n",
    "    all_subject_fail = False\n",
    "    for student in students:\n",
    "        if(student[1] < 35 and student[2] < 35 and student[3] < 35 and student[4] < 35 and student[5] < 35) :\n",
    "            print(student[0], student[1], student[2], student[3], student[4], student[5], student[6])\n",
    "            all_subject_fail = True\n",
    "    if all_subject_fail == False:\n",
    "        print (\"There is no students with all subject failed.\")\n",
    "\n",
    "\n",
    "\n",
    "get_passed_students(students_marks)\n",
    "\n",
    "get_all_subject_failed_students(students_marks)\n",
    "\n"
   ]
  }
 ],
 "metadata": {
  "kernelspec": {
   "display_name": "Python 3",
   "language": "python",
   "name": "python3"
  },
  "language_info": {
   "codemirror_mode": {
    "name": "ipython",
    "version": 3
   },
   "file_extension": ".py",
   "mimetype": "text/x-python",
   "name": "python",
   "nbconvert_exporter": "python",
   "pygments_lexer": "ipython3",
   "version": "3.12.1"
  }
 },
 "nbformat": 4,
 "nbformat_minor": 5
}
