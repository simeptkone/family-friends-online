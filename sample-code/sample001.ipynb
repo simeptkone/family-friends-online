{
 "cells": [
  {
   "cell_type": "code",
   "execution_count": 20,
   "id": "efe80db3",
   "metadata": {},
   "outputs": [
    {
     "name": "stdout",
     "output_type": "stream",
     "text": [
      "['Ramesh', 'Mahesh', 'Suresh', 'Dinesh', 'Divya', 'Amar', 'Anand', 'Zoove', 'Sean', 'Raja']\n",
      "[69, 93, 52, 48, 21, 100, 1, 63, 20, 8]\n",
      "[36, 88, 28, 77, 30, 95, 49, 77, 85, 85]\n",
      "[7, 53, 39, 41, 61, 2, 99, 30, 10, 87]\n",
      "[59, 23, 24, 58, 82, 17, 45, 61, 53, 53]\n",
      "[18, 44, 82, 53, 74, 87, 94, 74, 50, 28]\n",
      "Ramesh: 189\n",
      "Mahesh: 301\n",
      "Suresh: 225\n",
      "Dinesh: 277\n",
      "Divya: 268\n",
      "Amar: 301\n",
      "Anand: 288\n",
      "Zoove: 305\n",
      "Sean: 218\n",
      "Raja: 261\n",
      "[38000, 40000, 32000, 27000, 45000, 33000, 32000, 18000, 47000, 45000]\n"
     ]
    }
   ],
   "source": [
    "import random\n",
    "students = [\"Ramesh\",\"Mahesh\",\"Suresh\",\"Dinesh\",\"Divya\",\"Amar\",\"Anand\",\"Zoove\",\"Sean\",\"Raja\"]\n",
    "\n",
    "tamilMark = [random.randint(0,100) for _ in range (10)]\n",
    "englishMark = [random.randint(0,100) for _ in range(10)]\n",
    "mathsMark = [random.randint(0,100) for _ in range(10)]\n",
    "scienceMark = [random.randint(0,100) for _ in range(10)]\n",
    "socialMark = [random.randint(0,100) for _ in range(10)]\n",
    "\n",
    "print(students)\n",
    "print(tamilMark)\n",
    "print(englishMark)\n",
    "print(mathsMark)\n",
    "print(scienceMark)\n",
    "print(socialMark)\n",
    "\n",
    "for i in range(len(students)):\n",
    "    total_mark = tamilMark[i] + englishMark[i] + mathsMark[i] + scienceMark[i] + socialMark[i]\n",
    "    print(f\"{students[i]}: {total_mark}\")\n",
    "\n",
    "total_marks = list(map(lambda i: tamilMark[i] + englishMark[i] + mathsMark[i] + scienceMark[i] + socialMark[i], range(len(students))))\n",
    "\n",
    "randomSalary = list(map(lambda i: random.randint(10, 50) * 1000, range(len(students))))\n",
    "print(randomSalary)\n",
    "# for i, total_mark in enumerate(total_marks):\n",
    "#     print(f\"{students[i]}: {total_mark}\")"
   ]
  }
 ],
 "metadata": {
  "kernelspec": {
   "display_name": "Python 3",
   "language": "python",
   "name": "python3"
  },
  "language_info": {
   "codemirror_mode": {
    "name": "ipython",
    "version": 3
   },
   "file_extension": ".py",
   "mimetype": "text/x-python",
   "name": "python",
   "nbconvert_exporter": "python",
   "pygments_lexer": "ipython3",
   "version": "3.12.1"
  }
 },
 "nbformat": 4,
 "nbformat_minor": 5
}
