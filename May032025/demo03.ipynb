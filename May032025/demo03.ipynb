{
 "cells": [
  {
   "cell_type": "code",
   "execution_count": 12,
   "id": "74507816",
   "metadata": {},
   "outputs": [
    {
     "name": "stdout",
     "output_type": "stream",
     "text": [
      "W\n",
      "[['R', 'mesh'], ['M', 'hesh'], ['An', 'nd'], ['Divy', 'r', 'jan']]\n"
     ]
    }
   ],
   "source": [
    "import random\n",
    "print(chr(random.randint(65,91)))\n",
    "\n",
    "students = [\"Ramesh\", \"Mahesh\", \"Anand\", \"Divyarajan\"]\n",
    "p1 = []\n",
    "for name in students:\n",
    "    p1.append(name.split('a',2))\n",
    "\n",
    "print(p1)"
   ]
  }
 ],
 "metadata": {
  "kernelspec": {
   "display_name": "Python 3",
   "language": "python",
   "name": "python3"
  },
  "language_info": {
   "codemirror_mode": {
    "name": "ipython",
    "version": 3
   },
   "file_extension": ".py",
   "mimetype": "text/x-python",
   "name": "python",
   "nbconvert_exporter": "python",
   "pygments_lexer": "ipython3",
   "version": "3.12.1"
  }
 },
 "nbformat": 4,
 "nbformat_minor": 5
}
