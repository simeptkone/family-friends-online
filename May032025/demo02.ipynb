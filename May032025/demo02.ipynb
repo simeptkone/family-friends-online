{
 "cells": [
  {
   "cell_type": "code",
   "execution_count": 15,
   "id": "a5671ab4",
   "metadata": {},
   "outputs": [
    {
     "name": "stdout",
     "output_type": "stream",
     "text": [
      "[83000, 20000, 30000, 100000, 46000, 87000, 65000, 71000, 77000, 35000]\n"
     ]
    }
   ],
   "source": [
    "import random\n",
    "employees = [\"Ramesh\", \"Suresh\", \"Mahesh\", \"Rajesh\", \"Ganesh\", \"Rakesh\", \"Kiran\", \"Suman\", \"Ravi\", \"Ajay\"]\n",
    "\n",
    "salaries = []\n",
    "for i in range(len(employees)):\n",
    "    salaries.append(random.randint(10,100)*1000)\n",
    "    # salaries.append(int(random.random() * 100000))\n",
    "\n",
    "print(salaries)\n",
    "\n",
    "# tamilMark = [random.randint(11,100) for i in range(len(employees))]\n",
    "# print(tamilMark)\n",
    "\n"
   ]
  },
  {
   "cell_type": "code",
   "execution_count": 19,
   "id": "1d314a67",
   "metadata": {},
   "outputs": [
    {
     "name": "stdout",
     "output_type": "stream",
     "text": [
      "Minimum Salary: 20000, Maximum Salary: 100000. Average Salary: 61400.0\n"
     ]
    }
   ],
   "source": [
    "print(f\"Minimum Salary: {min(salaries)}, Maximum Salary: {max(salaries)}. Average Salary: {sum(salaries) / len(employees)}\")"
   ]
  }
 ],
 "metadata": {
  "kernelspec": {
   "display_name": "Python 3",
   "language": "python",
   "name": "python3"
  },
  "language_info": {
   "codemirror_mode": {
    "name": "ipython",
    "version": 3
   },
   "file_extension": ".py",
   "mimetype": "text/x-python",
   "name": "python",
   "nbconvert_exporter": "python",
   "pygments_lexer": "ipython3",
   "version": "3.12.1"
  }
 },
 "nbformat": 4,
 "nbformat_minor": 5
}
