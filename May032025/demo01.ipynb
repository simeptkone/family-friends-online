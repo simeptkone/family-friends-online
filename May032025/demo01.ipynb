{
 "cells": [
  {
   "cell_type": "code",
   "execution_count": null,
   "id": "c8fa21b9",
   "metadata": {},
   "outputs": [
    {
     "name": "stdout",
     "output_type": "stream",
     "text": [
      "['Ramesh', 'Suresh', 'Mahesh', 'Rajesh', 'Ganesh', 'Rakesh', 'Kiran', 'Suman', 'Ravi', 'Ajay']\n",
      "[78, 56, 89, 45, 67, 90, 34, 78, 88, 76]\n",
      "[67, 78, 89, 45, 56, 90, 34, 78, 88, 76]\n",
      "[78, 56, 89, 45, 67, 90, 34, 78, 88, 76]\n",
      "[67, 78, 89, 45, 56, 90, 34, 78, 88, 76]\n",
      "[78, 56, 89, 45, 67, 90, 34, 78, 88, 76]\n",
      "A = 10, B = 20, A + B = 30\n"
     ]
    }
   ],
   "source": [
    "students = [\"Ramesh\", \"Suresh\", \"Mahesh\", \"Rajesh\", \"Ganesh\", \"Rakesh\", \"Kiran\", \"Suman\", \"Ravi\", \"Ajay\"]\n",
    "\n",
    "tamilMarks = [78, 56, 89, 45, 67, 90, 34, 78, 88, 76]\n",
    "englishMarks = [67, 78, 89, 45, 56, 90, 34, 78, 88, 76]\n",
    "mathsMarks = [78, 56, 89, 45, 67, 90, 34, 78, 88, 76]\n",
    "scienceMarks = [67, 78, 89, 45, 56, 90, 34, 78, 88, 76]\n",
    "socialMarks = [78, 56, 89, 45, 67, 90, 34, 78, 88, 76]\n",
    "print(students)\n",
    "print(tamilMarks)\n",
    "print(englishMarks)\n",
    "print(mathsMarks)\n",
    "print(scienceMarks)\n",
    "print(socialMarks)\n",
    "totalMarks = []\n",
    "for i in range(len(students)):\n",
    "    totalMarks.append(tamilMarks[i] + englishMarks[i] + mathsMarks[i] + scienceMarks[i] + socialMarks[i])\n",
    "\n",
    "for i in range(len(students)):\n",
    "    print(f\"Name:{students[i]} - Total: {totalMarks[i]}\")\n",
    "\n",
    "a = 10\n",
    "b = 20\n",
    "c = a + b\n",
    "print(f\"A = {a}, B = {b}, A + B = {c}\")\n",
    "print(\"A = \", a, \"B = \", b, \"A + B = \", c)\n",
    "\n",
    "\n",
    "\n",
    "\n",
    "\n"
   ]
  }
 ],
 "metadata": {
  "kernelspec": {
   "display_name": "Python 3",
   "language": "python",
   "name": "python3"
  },
  "language_info": {
   "codemirror_mode": {
    "name": "ipython",
    "version": 3
   },
   "file_extension": ".py",
   "mimetype": "text/x-python",
   "name": "python",
   "nbconvert_exporter": "python",
   "pygments_lexer": "ipython3",
   "version": "3.12.1"
  }
 },
 "nbformat": 4,
 "nbformat_minor": 5
}
