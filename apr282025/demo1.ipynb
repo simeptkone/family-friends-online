{
 "cells": [
  {
   "cell_type": "code",
   "execution_count": null,
   "id": "61a43cca",
   "metadata": {},
   "outputs": [],
   "source": [
    "i1 = 10\n",
    "i2 = 20\n",
    "f1 = 10.04\n",
    "f2 = 0.0005\n",
    "s1 = \"Kumaran PT\"\n",
    "s2 = \"I Love My India\"\n",
    "t1 = (10,20,30) #Tuple (Array)\n",
    "t2 = (10,\"Ram\",4.45)\n",
    "l1 = [10,20,30] #List (Array)\n",
    "l2 = [15, \"Mahesh\",10.40,(1,2,3,4,5)]\n"
   ]
  },
  {
   "cell_type": "code",
   "execution_count": null,
   "id": "f9abe102",
   "metadata": {},
   "outputs": [],
   "source": [
    "print(l1,type(l1))\n",
    "print(t1,type(t1))"
   ]
  },
  {
   "cell_type": "code",
   "execution_count": null,
   "id": "72be434a",
   "metadata": {},
   "outputs": [],
   "source": [
    "print(l2)"
   ]
  },
  {
   "cell_type": "code",
   "execution_count": null,
   "id": "e3312a15",
   "metadata": {},
   "outputs": [],
   "source": [
    "for t in l2:\n",
    "    print(t, type(t))\n",
    "    if(type(t)==int or type(t)==float):\n",
    "        print(t)"
   ]
  },
  {
   "cell_type": "code",
   "execution_count": 11,
   "id": "41727ab5",
   "metadata": {},
   "outputs": [],
   "source": [
    "l1.append(40)"
   ]
  },
  {
   "cell_type": "code",
   "execution_count": 13,
   "id": "07e73e0f",
   "metadata": {},
   "outputs": [
    {
     "name": "stdout",
     "output_type": "stream",
     "text": [
      "4 [10, 20, 30, 40]\n"
     ]
    }
   ],
   "source": [
    "print(len(l1),l1)"
   ]
  },
  {
   "cell_type": "code",
   "execution_count": 14,
   "id": "81510b39",
   "metadata": {},
   "outputs": [
    {
     "name": "stdout",
     "output_type": "stream",
     "text": [
      "5 [10, 20, 30, 40, 45]\n"
     ]
    }
   ],
   "source": [
    "l1.append(45)\n",
    "print(len(l1), l1)"
   ]
  }
 ],
 "metadata": {
  "kernelspec": {
   "display_name": "Python 3",
   "language": "python",
   "name": "python3"
  },
  "language_info": {
   "codemirror_mode": {
    "name": "ipython",
    "version": 3
   },
   "file_extension": ".py",
   "mimetype": "text/x-python",
   "name": "python",
   "nbconvert_exporter": "python",
   "pygments_lexer": "ipython3",
   "version": "3.12.1"
  }
 },
 "nbformat": 4,
 "nbformat_minor": 5
}
