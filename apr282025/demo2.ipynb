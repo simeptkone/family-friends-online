{
 "cells": [
  {
   "cell_type": "code",
   "execution_count": null,
   "id": "94743372",
   "metadata": {},
   "outputs": [],
   "source": [
    "#Find the biggest one in given three numbers\n",
    "a = input(\"Enter First Number:\")\n",
    "b = input(\"Enter Second Number:\")\n",
    "c = input(\"Enter Third Number:\")\n",
    "l1 = []\n",
    "l1.append(float(a))\n",
    "l1.append(float(b))\n",
    "l1.append(float(c))\n",
    "print(l1)\n",
    "print(max(l1))"
   ]
  },
  {
   "cell_type": "code",
   "execution_count": null,
   "id": "93c25b33",
   "metadata": {},
   "outputs": [],
   "source": [
    "m1 = [(1,2,4),(1,9,5),(1,5,8)]\n",
    "m2=[(1,0,0),(0,1,0),(0,0,1)]\n",
    "for t in m1:\n",
    "    print(list(t))\n",
    "print()\n",
    "for t in m2:\n",
    "    print(list(t))"
   ]
  },
  {
   "cell_type": "code",
   "execution_count": null,
   "id": "8153e7cf",
   "metadata": {},
   "outputs": [
    {
     "name": "stdout",
     "output_type": "stream",
     "text": [
      "(1, 2, 4) (1, 0, 0)\n",
      "(1, 9, 5) (0, 1, 0)\n",
      "(1, 5, 8) (0, 0, 1)\n",
      "[(1, 2, 4), (1, 9, 5), (1, 5, 8)]\n",
      "[(1, 0, 0), (0, 1, 0), (0, 0, 1)]\n",
      "[[2, 2, 4], [1, 10, 5], [1, 5, 9]]\n"
     ]
    }
   ],
   "source": [
    "m3 = []\n",
    "for r in range(3):\n",
    "    t = [] # Row Group\n",
    "    x = m1[r]\n",
    "    y = m2[r]\n",
    "    print(x,y)\n",
    "    for c in range(3):\n",
    "        a = x[c]\n",
    "        b = y[c]\n",
    "        c = a + b\n",
    "        t.append(c)\n",
    "    m3.append(t)\n",
    "\n",
    "print(m1)\n",
    "print(m2)\n",
    "print(m3)\n"
   ]
  }
 ],
 "metadata": {
  "kernelspec": {
   "display_name": "Python 3",
   "language": "python",
   "name": "python3"
  },
  "language_info": {
   "codemirror_mode": {
    "name": "ipython",
    "version": 3
   },
   "file_extension": ".py",
   "mimetype": "text/x-python",
   "name": "python",
   "nbconvert_exporter": "python",
   "pygments_lexer": "ipython3",
   "version": "3.12.1"
  }
 },
 "nbformat": 4,
 "nbformat_minor": 5
}
